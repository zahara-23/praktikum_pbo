{
  "nbformat": 4,
  "nbformat_minor": 0,
  "metadata": {
    "colab": {
      "provenance": [],
      "authorship_tag": "ABX9TyMncy2Tj1TzZ9CwM6jHZpp6",
      "include_colab_link": true
    },
    "kernelspec": {
      "name": "python3",
      "display_name": "Python 3"
    },
    "language_info": {
      "name": "python"
    }
  },
  "cells": [
    {
      "cell_type": "markdown",
      "metadata": {
        "id": "view-in-github",
        "colab_type": "text"
      },
      "source": [
        "<a href=\"https://colab.research.google.com/github/zahara-23/praktikum_pbo/blob/main/pewarisan2.ipynb\" target=\"_parent\"><img src=\"https://colab.research.google.com/assets/colab-badge.svg\" alt=\"Open In Colab\"/></a>"
      ]
    },
    {
      "cell_type": "code",
      "execution_count": 1,
      "metadata": {
        "colab": {
          "base_uri": "https://localhost:8080/"
        },
        "id": "csa3Sq4EPjfT",
        "outputId": "22d3a762-f629-489e-bbf3-752d96a01f5e"
      },
      "outputs": [
        {
          "output_type": "stream",
          "name": "stdout",
          "text": [
            "{'brand': 'Ford', 'model': 'Focus', 'year': 2008, 'number_of_doors': 5, 'number_of_wheels': 4}\n",
            "{'brand': 'Honda', 'model': 'Scoopy', 'year': 2018, 'number_of_wheels': 2}\n",
            "vehicle is starting\n",
            "vehicle is starting\n"
          ]
        }
      ],
      "source": [
        "#make class Vehicle\n",
        "class Vehicle:\n",
        "\tdef __init__(self, brand, model, year):\n",
        "\t\tself.brand = brand\n",
        "\t\tself.model = model\n",
        "\t\tself.year = year\n",
        "\n",
        "#make methods\n",
        "\tdef start(self):\n",
        "\t\tprint(\"vehicle is starting\")\n",
        "\tdef stop(self):\n",
        "\t\tprint(\"vehicle is stopping\")\n",
        "#define sub class and make class Car (inheritance from Vehicle)\n",
        "# the super() to call method __init__() from class Vehicle\n",
        "class Car(Vehicle):\n",
        "\tdef __init__(self, brand, model, year, number_of_doors, number_of_wheels):\n",
        "\t\tsuper().__init__(brand, model, year)\n",
        "\t\tself.number_of_doors= number_of_doors\n",
        "\t\tself.number_of_wheels=number_of_wheels\n",
        "\n",
        "#make class Bike (inheritance from Vehicle)\n",
        "class Bike(Vehicle):\n",
        "\tdef __init__(self, brand, model, year, number_of_wheels):\n",
        "\t\tsuper().__init__(brand, model, year)\n",
        "\t\tself.number_of_wheels=number_of_wheels\n",
        "\n",
        "#make object\n",
        "car = Car(\"Ford\", \"Focus\", 2008, 5, 4)\n",
        "bike = Bike(\"Honda\", \"Scoopy\", 2018, 2)\n",
        "#print attribute dan method\n",
        "print(car.__dict__)\n",
        "print(bike.__dict__)\n",
        "car.start()\n",
        "bike.start()\n"
      ]
    }
  ]
}